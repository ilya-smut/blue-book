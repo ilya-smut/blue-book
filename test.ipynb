{
 "cells": [
  {
   "cell_type": "code",
   "execution_count": 1,
   "metadata": {},
   "outputs": [],
   "source": [
    "from dotenv import dotenv_values\n",
    "\n",
    "config = dotenv_values(\".env\")\n",
    "\n",
    "query = \"\"\"\n",
    "you are a Comptia Security+ examiner with 10 years of experience. You are the best in the world in creating preparation test questions for security+.\n",
    "\n",
    "You need to create 2 multiple choice questions. YOU MUST FORMAT QUESTIONS IN JSON, as follows:\n",
    "\n",
    "{\"questions\": [{\"question\" : \"Actual text of question\", \"choices\":[{\"option\": \"Answer option\", \"is_correct\": bool, \"explanation\": \"Explanation why option is correct or incorrect\"}, ...]}, ...]}\n",
    "\"\"\""
   ]
  },
  {
   "cell_type": "code",
   "execution_count": 7,
   "metadata": {},
   "outputs": [
    {
     "name": "stdout",
     "output_type": "stream",
     "text": [
      "```json\n",
      "{\n",
      "  \"questions\": [\n",
      "    {\n",
      "      \"question\": \"A security administrator is reviewing the logs of a web server and notices a series of connection attempts originating from the same IP address, all targeting different, rarely used, URLs on the server. No successful connections were established. What type of attack is MOST likely occurring?\",\n",
      "      \"choices\": [\n",
      "        {\n",
      "          \"option\": \"Cross-site scripting (XSS)\",\n",
      "          \"is_correct\": false,\n",
      "          \"explanation\": \"XSS attacks typically involve injecting malicious scripts into trusted websites. This scenario doesn't fit the pattern.\"\n",
      "        },\n",
      "        {\n",
      "          \"option\": \"Distributed Denial of Service (DDoS)\",\n",
      "          \"is_correct\": false,\n",
      "          \"explanation\": \"While the activity could be related to DDoS, the key is the lack of successful connections and the focus on specific URLs points to a more focused reconnaissance attempt, not overwhelming resources.\"\n",
      "        },\n",
      "        {\n",
      "          \"option\": \"Directory Traversal\",\n",
      "          \"is_correct\": true,\n",
      "          \"explanation\": \"The attacker is attempting to access files and directories outside of the web server's intended document root. The failed attempts to reach rarely used URLs is characteristic of this attack.\"\n",
      "        },\n",
      "        {\n",
      "          \"option\": \"SQL Injection\",\n",
      "          \"is_correct\": false,\n",
      "          \"explanation\": \"SQL Injection typically targets database interactions, and it involves manipulating SQL queries; there is nothing to suggest the attacker is attempting to interact with a database.\"\n",
      "        }\n",
      "      ]\n",
      "    },\n",
      "    {\n",
      "      \"question\": \"An organization is implementing a new cloud-based Software as a Service (SaaS) application for customer relationship management (CRM). Which of the following is the MOST important security responsibility of the organization in this scenario?\",\n",
      "      \"choices\": [\n",
      "        {\n",
      "          \"option\": \"Ensuring the availability of the SaaS application by providing network redundancy.\",\n",
      "          \"is_correct\": false,\n",
      "          \"explanation\": \"Network redundancy and the availability of the application itself is the responsibility of the SaaS provider. The customer is responsible for the data.\"\n",
      "        },\n",
      "        {\n",
      "          \"option\": \"Managing the underlying infrastructure, including servers, storage, and networking.\",\n",
      "          \"is_correct\": false,\n",
      "          \"explanation\": \"The infrastructure is managed by the SaaS provider. This is a key element of the 'as a service' model.\"\n",
      "        },\n",
      "        {\n",
      "          \"option\": \"Data security and access control, including user authentication and data encryption.\",\n",
      "          \"is_correct\": true,\n",
      "          \"explanation\": \"The organization retains responsibility for the security of its data, including controlling access to the application, ensuring data is secured within the application and providing security controls.\"\n",
      "        },\n",
      "        {\n",
      "          \"option\": \"Patching the operating system and application software.\",\n",
      "          \"is_correct\": false,\n",
      "          \"explanation\": \"Patching is the responsibility of the SaaS provider. This is inherent to the SaaS model.\"\n",
      "        }\n",
      "      ]\n",
      "    }\n",
      "  ]\n",
      "}\n",
      "```\n"
     ]
    }
   ],
   "source": [
    "from google import genai\n",
    "\n",
    "client = genai.Client(api_key=config['API_KEY'])\n",
    "response = client.models.generate_content(\n",
    "    model=\"gemini-2.0-flash-lite-preview-02-05\", contents=query\n",
    ")\n",
    "print(response.text)"
   ]
  },
  {
   "cell_type": "code",
   "execution_count": 8,
   "metadata": {},
   "outputs": [
    {
     "data": {
      "text/plain": [
       "'{\\n  \"questions\": [\\n    {\\n      \"question\": \"A security administrator is reviewing the logs of a web server and notices a series of connection attempts originating from the same IP address, all targeting different, rarely used, URLs on the server. No successful connections were established. What type of attack is MOST likely occurring?\",\\n      \"choices\": [\\n        {\\n          \"option\": \"Cross-site scripting (XSS)\",\\n          \"is_correct\": false,\\n          \"explanation\": \"XSS attacks typically involve injecting malicious scripts into trusted websites. This scenario doesn\\'t fit the pattern.\"\\n        },\\n        {\\n          \"option\": \"Distributed Denial of Service (DDoS)\",\\n          \"is_correct\": false,\\n          \"explanation\": \"While the activity could be related to DDoS, the key is the lack of successful connections and the focus on specific URLs points to a more focused reconnaissance attempt, not overwhelming resources.\"\\n        },\\n        {\\n          \"option\": \"Directory Traversal\",\\n          \"is_correct\": true,\\n          \"explanation\": \"The attacker is attempting to access files and directories outside of the web server\\'s intended document root. The failed attempts to reach rarely used URLs is characteristic of this attack.\"\\n        },\\n        {\\n          \"option\": \"SQL Injection\",\\n          \"is_correct\": false,\\n          \"explanation\": \"SQL Injection typically targets database interactions, and it involves manipulating SQL queries; there is nothing to suggest the attacker is attempting to interact with a database.\"\\n        }\\n      ]\\n    },\\n    {\\n      \"question\": \"An organization is implementing a new cloud-based Software as a Service (SaaS) application for customer relationship management (CRM). Which of the following is the MOST important security responsibility of the organization in this scenario?\",\\n      \"choices\": [\\n        {\\n          \"option\": \"Ensuring the availability of the SaaS application by providing network redundancy.\",\\n          \"is_correct\": false,\\n          \"explanation\": \"Network redundancy and the availability of the application itself is the responsibility of the SaaS provider. The customer is responsible for the data.\"\\n        },\\n        {\\n          \"option\": \"Managing the underlying infrastructure, including servers, storage, and networking.\",\\n          \"is_correct\": false,\\n          \"explanation\": \"The infrastructure is managed by the SaaS provider. This is a key element of the \\'as a service\\' model.\"\\n        },\\n        {\\n          \"option\": \"Data security and access control, including user authentication and data encryption.\",\\n          \"is_correct\": true,\\n          \"explanation\": \"The organization retains responsibility for the security of its data, including controlling access to the application, ensuring data is secured within the application and providing security controls.\"\\n        },\\n        {\\n          \"option\": \"Patching the operating system and application software.\",\\n          \"is_correct\": false,\\n          \"explanation\": \"Patching is the responsibility of the SaaS provider. This is inherent to the SaaS model.\"\\n        }\\n      ]\\n    }\\n  ]\\n}'"
      ]
     },
     "execution_count": 8,
     "metadata": {},
     "output_type": "execute_result"
    }
   ],
   "source": [
    "import json\n",
    "\n",
    "no_fences = response.text[8:-4]\n",
    "no_fences\n"
   ]
  },
  {
   "cell_type": "code",
   "execution_count": 9,
   "metadata": {},
   "outputs": [],
   "source": [
    "loaded = json.loads(no_fences)"
   ]
  },
  {
   "cell_type": "code",
   "execution_count": 10,
   "metadata": {},
   "outputs": [
    {
     "name": "stdout",
     "output_type": "stream",
     "text": [
      "Question # 0 -> A security administrator is reviewing the logs of a web server and notices a series of connection attempts originating from the same IP address, all targeting different, rarely used, URLs on the server. No successful connections were established. What type of attack is MOST likely occurring?\n",
      "0 :  Cross-site scripting (XSS)\n",
      "1 :  Distributed Denial of Service (DDoS)\n",
      "2 :  Directory Traversal\n",
      "3 :  SQL Injection\n",
      "\n",
      "\n",
      "Question # 1 -> An organization is implementing a new cloud-based Software as a Service (SaaS) application for customer relationship management (CRM). Which of the following is the MOST important security responsibility of the organization in this scenario?\n",
      "0 :  Ensuring the availability of the SaaS application by providing network redundancy.\n",
      "1 :  Managing the underlying infrastructure, including servers, storage, and networking.\n",
      "2 :  Data security and access control, including user authentication and data encryption.\n",
      "3 :  Patching the operating system and application software.\n",
      "\n",
      "\n"
     ]
    }
   ],
   "source": [
    "for question_index, question in enumerate(loaded['questions']):\n",
    "    print(\"Question #\",question_index, \"->\",question['question'])\n",
    "    for index, choice in enumerate(question['choices']):\n",
    "        print(index, \": \", choice['option']) # [O]ption will need to be changed to [o]ption\n",
    "    print(\"\\n\")"
   ]
  },
  {
   "cell_type": "code",
   "execution_count": 105,
   "metadata": {},
   "outputs": [
    {
     "name": "stdout",
     "output_type": "stream",
     "text": [
      "Question 0: Correct :)\n",
      "\n",
      "Question: A security analyst is reviewing network traffic and observes a large number of SYN packets being sent to a single server from multiple, seemingly legitimate, IP addresses. The server is becoming unresponsive. Which of the following attacks is MOST likely occurring?\n",
      "Your answer is: SYN flood\n",
      "Correct because: A SYN flood attack overwhelms the server by sending a high volume of SYN packets, exhausting its resources and preventing it from responding to legitimate requests. The multiple source IPs indicate a distributed attack.\n"
     ]
    }
   ],
   "source": [
    "response = (0, 1)\n",
    "\n",
    "if loaded[\"questions\"][response[0]][\"choices\"][response[1]]['is_correct']:\n",
    "    print(f\"Question {response[0]}: Correct :)\\n\")\n",
    "    print(f\"Question: {loaded['questions'][response[0]]['question']}\\n\"\n",
    "        f\"Your answer is: {loaded['questions'][response[0]]['choices'][response[1]]['option']}\")\n",
    "    print(f\"Correct because: {loaded['questions'][response[0]]['choices'][response[1]]['explanation']}\")\n",
    "else:\n",
    "    print(f\"Question {response[0]}: Incorrect :( \\n\")\n",
    "\n",
    "    print(f\"Question: {loaded['questions'][response[0]]['question']}\\n\"\n",
    "            f\"Your answer is: {loaded['questions'][response[0]]['choices'][response[1]]['option']}\\n\"\n",
    "                f\"Incorrect because: {loaded['questions'][response[0]]['choices'][response[1]]['explanation']}\")\n",
    "\n",
    "    for index, choice in enumerate(loaded['questions'][response[0]]['choices']):\n",
    "        if choice['is_correct']:\n",
    "            print(f\"Correct answer is: {loaded['questions'][response[0]]['choices'][index]['option']}\\n\"\n",
    "                  f\"It it correct because: {loaded['questions'][response[0]]['choices'][index]['explanation']}\")\n"
   ]
  }
 ],
 "metadata": {
  "kernelspec": {
   "display_name": "gemini-test-xGNPidN5-py3.10",
   "language": "python",
   "name": "python3"
  },
  "language_info": {
   "codemirror_mode": {
    "name": "ipython",
    "version": 3
   },
   "file_extension": ".py",
   "mimetype": "text/x-python",
   "name": "python",
   "nbconvert_exporter": "python",
   "pygments_lexer": "ipython3",
   "version": "3.10.12"
  }
 },
 "nbformat": 4,
 "nbformat_minor": 2
}
