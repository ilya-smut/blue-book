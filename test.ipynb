{
 "cells": [
  {
   "cell_type": "code",
   "execution_count": 100,
   "metadata": {},
   "outputs": [],
   "source": [
    "from dotenv import dotenv_values\n",
    "\n",
    "config = dotenv_values(\".env\")\n",
    "\n",
    "query = \"\"\"\n",
    "you are a Comptia Security+ examiner with 10 years of experience. You are the best in the world in creating preparation test questions for security+.\n",
    "\n",
    "You need to create 2 multiple choice questions. YOU MUST FORMAT QUESTIONS IN JSON, as follows:\n",
    "\n",
    "{\"questions\": [{\"question\" : \"Actual text of question\", \"choices\":[{\"option\": \"Answer option\", \"is_correct\": bool, \"explanation\": \"Explanation why option is correct or incorrect\"}, ...]}, ...]}\n",
    "\"\"\""
   ]
  },
  {
   "cell_type": "code",
   "execution_count": 101,
   "metadata": {},
   "outputs": [
    {
     "name": "stdout",
     "output_type": "stream",
     "text": [
      "```json\n",
      "{\n",
      "  \"questions\": [\n",
      "    {\n",
      "      \"question\": \"A security analyst is reviewing network traffic and observes a large number of SYN packets being sent to a single server from multiple, seemingly legitimate, IP addresses. The server is becoming unresponsive. Which of the following attacks is MOST likely occurring?\",\n",
      "      \"choices\": [\n",
      "        {\n",
      "          \"option\": \"Man-in-the-middle attack\",\n",
      "          \"is_correct\": false,\n",
      "          \"explanation\": \"A Man-in-the-middle attack involves interception and potential alteration of communication between two parties. SYN floods primarily target server availability.\"\n",
      "        },\n",
      "        {\n",
      "          \"option\": \"SYN flood\",\n",
      "          \"is_correct\": true,\n",
      "          \"explanation\": \"A SYN flood attack overwhelms the server by sending a high volume of SYN packets, exhausting its resources and preventing it from responding to legitimate requests. The multiple source IPs indicate a distributed attack.\"\n",
      "        },\n",
      "        {\n",
      "          \"option\": \"DNS poisoning\",\n",
      "          \"is_correct\": false,\n",
      "          \"explanation\": \"DNS poisoning involves altering DNS records to redirect users to malicious websites. While it can cause disruption, it doesn't typically manifest as a flood of SYN packets.\"\n",
      "        },\n",
      "        {\n",
      "          \"option\": \"SQL injection\",\n",
      "          \"is_correct\": false,\n",
      "          \"explanation\": \"SQL injection exploits vulnerabilities in database-driven applications, allowing attackers to execute malicious SQL code. It doesn't directly involve the flooding of SYN packets.\"\n",
      "        }\n",
      "      ]\n",
      "    },\n",
      "    {\n",
      "      \"question\": \"A company is implementing a BYOD (Bring Your Own Device) policy. To ensure data security and compliance, which of the following security controls should be implemented FIRST?\",\n",
      "      \"choices\": [\n",
      "        {\n",
      "          \"option\": \"Full Disk Encryption (FDE)\",\n",
      "          \"is_correct\": false,\n",
      "          \"explanation\": \"While FDE is important, establishing clear policies and MDM comes first.  If the device isn't enrolled, FDE might not be enforced or properly managed.\"\n",
      "        },\n",
      "        {\n",
      "          \"option\": \"Multi-Factor Authentication (MFA)\",\n",
      "          \"is_correct\": false,\n",
      "          \"explanation\": \"MFA is crucial, but it relies on having a secure initial configuration and policy enforcement on the device, which is addressed in other options.\"\n",
      "        },\n",
      "        {\n",
      "          \"option\": \"Mobile Device Management (MDM)\",\n",
      "          \"is_correct\": true,\n",
      "          \"explanation\": \"MDM allows for centralized management and security policy enforcement on BYOD devices. This includes settings configurations, application control, remote wipe capabilities, and compliance monitoring.  It provides the foundational layer for subsequent security controls.\"\n",
      "        },\n",
      "        {\n",
      "          \"option\": \"Intrusion Detection System (IDS)\",\n",
      "          \"is_correct\": false,\n",
      "          \"explanation\": \"IDS is designed to detect malicious activity on the network.  It's not a primary security control for BYOD device management itself. It's a secondary defense layer once BYOD is implemented.\"\n",
      "        }\n",
      "      ]\n",
      "    }\n",
      "  ]\n",
      "}\n",
      "```\n"
     ]
    }
   ],
   "source": [
    "from google import genai\n",
    "\n",
    "client = genai.Client(api_key=config['API_KEY'])\n",
    "response = client.models.generate_content(\n",
    "    model=\"gemini-2.0-flash\", contents=query\n",
    ")\n",
    "print(response.text)"
   ]
  },
  {
   "cell_type": "code",
   "execution_count": 102,
   "metadata": {},
   "outputs": [
    {
     "data": {
      "text/plain": [
       "'{\\n  \"questions\": [\\n    {\\n      \"question\": \"A security analyst is reviewing network traffic and observes a large number of SYN packets being sent to a single server from multiple, seemingly legitimate, IP addresses. The server is becoming unresponsive. Which of the following attacks is MOST likely occurring?\",\\n      \"choices\": [\\n        {\\n          \"option\": \"Man-in-the-middle attack\",\\n          \"is_correct\": false,\\n          \"explanation\": \"A Man-in-the-middle attack involves interception and potential alteration of communication between two parties. SYN floods primarily target server availability.\"\\n        },\\n        {\\n          \"option\": \"SYN flood\",\\n          \"is_correct\": true,\\n          \"explanation\": \"A SYN flood attack overwhelms the server by sending a high volume of SYN packets, exhausting its resources and preventing it from responding to legitimate requests. The multiple source IPs indicate a distributed attack.\"\\n        },\\n        {\\n          \"option\": \"DNS poisoning\",\\n          \"is_correct\": false,\\n          \"explanation\": \"DNS poisoning involves altering DNS records to redirect users to malicious websites. While it can cause disruption, it doesn\\'t typically manifest as a flood of SYN packets.\"\\n        },\\n        {\\n          \"option\": \"SQL injection\",\\n          \"is_correct\": false,\\n          \"explanation\": \"SQL injection exploits vulnerabilities in database-driven applications, allowing attackers to execute malicious SQL code. It doesn\\'t directly involve the flooding of SYN packets.\"\\n        }\\n      ]\\n    },\\n    {\\n      \"question\": \"A company is implementing a BYOD (Bring Your Own Device) policy. To ensure data security and compliance, which of the following security controls should be implemented FIRST?\",\\n      \"choices\": [\\n        {\\n          \"option\": \"Full Disk Encryption (FDE)\",\\n          \"is_correct\": false,\\n          \"explanation\": \"While FDE is important, establishing clear policies and MDM comes first.  If the device isn\\'t enrolled, FDE might not be enforced or properly managed.\"\\n        },\\n        {\\n          \"option\": \"Multi-Factor Authentication (MFA)\",\\n          \"is_correct\": false,\\n          \"explanation\": \"MFA is crucial, but it relies on having a secure initial configuration and policy enforcement on the device, which is addressed in other options.\"\\n        },\\n        {\\n          \"option\": \"Mobile Device Management (MDM)\",\\n          \"is_correct\": true,\\n          \"explanation\": \"MDM allows for centralized management and security policy enforcement on BYOD devices. This includes settings configurations, application control, remote wipe capabilities, and compliance monitoring.  It provides the foundational layer for subsequent security controls.\"\\n        },\\n        {\\n          \"option\": \"Intrusion Detection System (IDS)\",\\n          \"is_correct\": false,\\n          \"explanation\": \"IDS is designed to detect malicious activity on the network.  It\\'s not a primary security control for BYOD device management itself. It\\'s a secondary defense layer once BYOD is implemented.\"\\n        }\\n      ]\\n    }\\n  ]\\n}'"
      ]
     },
     "execution_count": 102,
     "metadata": {},
     "output_type": "execute_result"
    }
   ],
   "source": [
    "import json\n",
    "\n",
    "no_fences = response.text[8:-4]\n",
    "no_fences\n"
   ]
  },
  {
   "cell_type": "code",
   "execution_count": 103,
   "metadata": {},
   "outputs": [],
   "source": [
    "loaded = json.loads(no_fences)"
   ]
  },
  {
   "cell_type": "code",
   "execution_count": 104,
   "metadata": {},
   "outputs": [
    {
     "name": "stdout",
     "output_type": "stream",
     "text": [
      "Question # 0 -> A security analyst is reviewing network traffic and observes a large number of SYN packets being sent to a single server from multiple, seemingly legitimate, IP addresses. The server is becoming unresponsive. Which of the following attacks is MOST likely occurring?\n",
      "0 :  Man-in-the-middle attack\n",
      "1 :  SYN flood\n",
      "2 :  DNS poisoning\n",
      "3 :  SQL injection\n",
      "\n",
      "\n",
      "Question # 1 -> A company is implementing a BYOD (Bring Your Own Device) policy. To ensure data security and compliance, which of the following security controls should be implemented FIRST?\n",
      "0 :  Full Disk Encryption (FDE)\n",
      "1 :  Multi-Factor Authentication (MFA)\n",
      "2 :  Mobile Device Management (MDM)\n",
      "3 :  Intrusion Detection System (IDS)\n",
      "\n",
      "\n"
     ]
    }
   ],
   "source": [
    "for question_index, question in enumerate(loaded['questions']):\n",
    "    print(\"Question #\",question_index, \"->\",question['question'])\n",
    "    for index, choice in enumerate(question['choices']):\n",
    "        print(index, \": \", choice['option']) # [O]ption will need to be changed to [o]ption\n",
    "    print(\"\\n\")"
   ]
  },
  {
   "cell_type": "code",
   "execution_count": 105,
   "metadata": {},
   "outputs": [
    {
     "name": "stdout",
     "output_type": "stream",
     "text": [
      "Question 0: Correct :)\n",
      "\n",
      "Question: A security analyst is reviewing network traffic and observes a large number of SYN packets being sent to a single server from multiple, seemingly legitimate, IP addresses. The server is becoming unresponsive. Which of the following attacks is MOST likely occurring?\n",
      "Your answer is: SYN flood\n",
      "Correct because: A SYN flood attack overwhelms the server by sending a high volume of SYN packets, exhausting its resources and preventing it from responding to legitimate requests. The multiple source IPs indicate a distributed attack.\n"
     ]
    }
   ],
   "source": [
    "response = (0, 1)\n",
    "\n",
    "if loaded[\"questions\"][response[0]][\"choices\"][response[1]]['is_correct']:\n",
    "    print(f\"Question {response[0]}: Correct :)\\n\")\n",
    "    print(f\"Question: {loaded['questions'][response[0]]['question']}\\n\"\n",
    "        f\"Your answer is: {loaded['questions'][response[0]]['choices'][response[1]]['option']}\")\n",
    "    print(f\"Correct because: {loaded['questions'][response[0]]['choices'][response[1]]['explanation']}\")\n",
    "else:\n",
    "    print(f\"Question {response[0]}: Incorrect :( \\n\")\n",
    "\n",
    "    print(f\"Question: {loaded['questions'][response[0]]['question']}\\n\"\n",
    "            f\"Your answer is: {loaded['questions'][response[0]]['choices'][response[1]]['option']}\\n\"\n",
    "                f\"Incorrect because: {loaded['questions'][response[0]]['choices'][response[1]]['explanation']}\")\n",
    "\n",
    "    for index, choice in enumerate(loaded['questions'][response[0]]['choices']):\n",
    "        if choice['is_correct']:\n",
    "            print(f\"Correct answer is: {loaded['questions'][response[0]]['choices'][index]['option']}\\n\"\n",
    "                  f\"It it correct because: {loaded['questions'][response[0]]['choices'][index]['explanation']}\")\n"
   ]
  }
 ],
 "metadata": {
  "kernelspec": {
   "display_name": "gemini-test-xGNPidN5-py3.10",
   "language": "python",
   "name": "python3"
  },
  "language_info": {
   "codemirror_mode": {
    "name": "ipython",
    "version": 3
   },
   "file_extension": ".py",
   "mimetype": "text/x-python",
   "name": "python",
   "nbconvert_exporter": "python",
   "pygments_lexer": "ipython3",
   "version": "3.10.12"
  }
 },
 "nbformat": 4,
 "nbformat_minor": 2
}
